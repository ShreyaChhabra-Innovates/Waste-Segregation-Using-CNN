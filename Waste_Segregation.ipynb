{
  "nbformat": 4,
  "nbformat_minor": 0,
  "metadata": {
    "colab": {
      "provenance": [],
      "gpuType": "T4"
    },
    "kernelspec": {
      "name": "python3",
      "display_name": "Python 3"
    },
    "language_info": {
      "name": "python"
    },
    "accelerator": "GPU"
  },
  "cells": [
    {
      "cell_type": "code",
      "execution_count": 36,
      "metadata": {
        "id": "t_Sq1s0Vwv3H"
      },
      "outputs": [],
      "source": [
        "# 1. Setup and Imports\n",
        "import torch\n",
        "import torch.nn as nn\n",
        "import torch.optim as optim\n",
        "from torch.utils.data import DataLoader, ConcatDataset\n",
        "from torchvision import datasets, transforms, models\n",
        "import os\n",
        "import matplotlib.pyplot as plt\n",
        "from google.colab import drive\n",
        "from PIL import Image, ImageFile"
      ]
    },
    {
      "cell_type": "code",
      "source": [
        "# This line is crucial for ignoring truncated images\n",
        "ImageFile.LOAD_TRUNCATED_IMAGES = True"
      ],
      "metadata": {
        "id": "6JKjpMe4OR8O"
      },
      "execution_count": 37,
      "outputs": []
    },
    {
      "cell_type": "code",
      "source": [
        "# Mount Google Drive\n",
        "from google.colab import drive\n",
        "drive.mount('/content/drive')\n"
      ],
      "metadata": {
        "id": "vl7LOOuYxHCF"
      },
      "execution_count": null,
      "outputs": []
    },
    {
      "cell_type": "code",
      "source": [
        "# Define a custom PIL loader to handle potential errors\n",
        "def pil_loader(path: str) -> Image.Image:\n",
        "    try:\n",
        "        with open(path, \"rb\") as f:\n",
        "            img = Image.open(f)\n",
        "            return img.convert(\"RGB\")\n",
        "    except (IOError, OSError) as e:\n",
        "        print(f\"Error loading image at {path}: {e}. Skipping.\")\n",
        "        return None\n",
        "\n",
        "# Define a custom ImageFolder that uses the robust loader\n",
        "class CustomImageFolder(datasets.ImageFolder):\n",
        "    def __init__(self, root, transform=None, target_transform=None):\n",
        "        super().__init__(root, transform=transform, target_transform=target_transform, loader=pil_loader)"
      ],
      "metadata": {
        "id": "zx2ODJuyOZFL"
      },
      "execution_count": 38,
      "outputs": []
    },
    {
      "cell_type": "code",
      "source": [
        "# 3. Data Preparation and Augmentation\n",
        "# Adjust these paths to where your main categories are located\n",
        "train_biodegradable_dir = '/content/drive/MyDrive/Colab Notebooks/Waste Segregation /Dataset/train/biodegradable'\n",
        "train_non_biodegradable_dir = '/content/drive/MyDrive/Colab Notebooks/Waste Segregation /Dataset/train/non_biodegradable'\n",
        "\n",
        "val_biodegradable_dir = '/content/drive/MyDrive/Colab Notebooks/Waste Segregation /Dataset/val/biodegradable'\n",
        "val_non_biodegradable_dir = '/content/drive/MyDrive/Colab Notebooks/Waste Segregation /Dataset/val/non_biodegradable'\n",
        "\n",
        "IMG_SIZE = 224\n",
        "BATCH_SIZE = 32\n",
        "train_transforms = transforms.Compose([\n",
        "    transforms.RandomResizedCrop(IMG_SIZE),\n",
        "    transforms.RandomHorizontalFlip(),\n",
        "    transforms.ToTensor(),\n",
        "    transforms.Normalize([0.485, 0.456, 0.406], [0.229, 0.224, 0.225])\n",
        "])\n",
        "\n",
        "val_transforms = transforms.Compose([\n",
        "    transforms.Resize(IMG_SIZE),\n",
        "    transforms.CenterCrop(IMG_SIZE),\n",
        "    transforms.ToTensor(),\n",
        "    transforms.Normalize([0.485, 0.456, 0.406], [0.229, 0.224, 0.225])\n",
        "])"
      ],
      "metadata": {
        "id": "hcvQLVbhJZM3"
      },
      "execution_count": 39,
      "outputs": []
    },
    {
      "cell_type": "code",
      "source": [
        "# Use the CustomImageFolder and combine the datasets\n",
        "train_dataset_bio = CustomImageFolder(train_biodegradable_dir, train_transforms)\n",
        "train_dataset_non_bio = CustomImageFolder(train_non_biodegradable_dir, train_transforms)\n",
        "train_dataset = ConcatDataset([train_dataset_bio, train_dataset_non_bio])\n",
        "\n",
        "val_dataset_bio = CustomImageFolder(val_biodegradable_dir, val_transforms)\n",
        "val_dataset_non_bio = CustomImageFolder(val_non_biodegradable_dir, val_transforms)\n",
        "val_dataset = ConcatDataset([val_dataset_bio, val_dataset_non_bio])\n",
        "\n",
        "# Get class names from the datasets\n",
        "class_names = train_dataset_bio.classes + train_dataset_non_bio.classes\n",
        "print(\"Class Names:\", class_names)\n",
        "\n",
        "# Create data loaders\n",
        "train_loader = DataLoader(train_dataset, batch_size=BATCH_SIZE, shuffle=True)\n",
        "val_loader = DataLoader(val_dataset, batch_size=BATCH_SIZE, shuffle=False)\n"
      ],
      "metadata": {
        "colab": {
          "base_uri": "https://localhost:8080/"
        },
        "id": "YmoXw2EJOyOx",
        "outputId": "281a32a7-9830-4844-e818-2bd3644d0137"
      },
      "execution_count": 40,
      "outputs": [
        {
          "output_type": "stream",
          "name": "stdout",
          "text": [
            "Class Names: ['food_waste', 'leaf_waste', 'paper_waste', 'wood_waste', 'ewaste', 'metal_cans', 'plastic_bags', 'plastic_bottles']\n"
          ]
        }
      ]
    },
    {
      "cell_type": "code",
      "source": [
        "# 3. Build the Model (Transfer Learning with ResNet-50)\n",
        "device = torch.device(\"cuda\" if torch.cuda.is_available() else \"cpu\")\n",
        "print(f\"Using device: {device}\")\n",
        "\n",
        "model = models.resnet50(weights='ResNet50_Weights.DEFAULT')\n",
        "\n",
        "for param in model.parameters():\n",
        "    param.requires_grad = False\n",
        "\n",
        "num_ftrs = model.fc.in_features\n",
        "model.fc = nn.Linear(num_ftrs, len(class_names))\n",
        "\n",
        "model = model.to(device)\n",
        "\n",
        "criterion = nn.CrossEntropyLoss()\n",
        "optimizer = optim.Adam(model.fc.parameters(), lr=0.001)\n"
      ],
      "metadata": {
        "colab": {
          "base_uri": "https://localhost:8080/"
        },
        "id": "KaHr0QD-xPGN",
        "outputId": "bb80c431-db88-47eb-b6ce-50088879b4db"
      },
      "execution_count": 41,
      "outputs": [
        {
          "output_type": "stream",
          "name": "stdout",
          "text": [
            "Using device: cuda\n"
          ]
        }
      ]
    },
    {
      "cell_type": "code",
      "source": [
        "# 4. Train the Model and Store Accuracies\n",
        "num_epochs = 20\n",
        "train_accuracies = []\n",
        "val_accuracies = []\n",
        "\n",
        "for epoch in range(num_epochs):\n",
        "    model.train()\n",
        "    running_loss = 0.0\n",
        "    correct_train = 0\n",
        "    total_train = 0\n",
        "    for inputs, labels in train_loader:\n",
        "        inputs, labels = inputs.to(device), labels.to(device)\n",
        "        optimizer.zero_grad()\n",
        "        outputs = model(inputs)\n",
        "        loss = criterion(outputs, labels)\n",
        "        loss.backward()\n",
        "        optimizer.step()\n",
        "        running_loss += loss.item() * inputs.size(0)\n",
        "\n",
        "        _, predicted = torch.max(outputs.data, 1)\n",
        "        total_train += labels.size(0)\n",
        "        correct_train += (predicted == labels).sum().item()\n",
        "\n",
        "    train_accuracy = 100 * correct_train / total_train\n",
        "    train_accuracies.append(train_accuracy)\n",
        "    epoch_loss = running_loss / len(train_dataset)\n",
        "    print(f\"Epoch {epoch+1}/{num_epochs} - Training Loss: {epoch_loss:.4f} - Training Accuracy: {train_accuracy:.2f}%\")\n",
        "\n",
        "    model.eval()\n",
        "    correct_val = 0\n",
        "    total_val = 0\n",
        "    with torch.no_grad():\n",
        "        for inputs, labels in val_loader:\n",
        "            inputs, labels = inputs.to(device), labels.to(device)\n",
        "            outputs = model(inputs)\n",
        "            _, predicted = torch.max(outputs.data, 1)\n",
        "            total_val += labels.size(0)\n",
        "            correct_val += (predicted == labels).sum().item()\n",
        "\n",
        "    val_accuracy = 100 * correct_val / total_val\n",
        "    val_accuracies.append(val_accuracy)\n",
        "    print(f\"Validation Accuracy: {val_accuracy:.2f}%\")"
      ],
      "metadata": {
        "colab": {
          "base_uri": "https://localhost:8080/"
        },
        "id": "Lha2sEc2PFBK",
        "outputId": "0b5abd74-4f2a-4dcc-a2cc-800b2def5539"
      },
      "execution_count": 43,
      "outputs": [
        {
          "output_type": "stream",
          "name": "stdout",
          "text": [
            "Epoch 1/20 - Training Loss: 0.1371 - Training Accuracy: 96.48%\n",
            "Validation Accuracy: 94.69%\n",
            "Epoch 2/20 - Training Loss: 0.1140 - Training Accuracy: 96.94%\n",
            "Validation Accuracy: 93.81%\n",
            "Epoch 3/20 - Training Loss: 0.1044 - Training Accuracy: 98.16%\n",
            "Validation Accuracy: 93.81%\n",
            "Epoch 4/20 - Training Loss: 0.1002 - Training Accuracy: 98.32%\n",
            "Validation Accuracy: 92.04%\n",
            "Epoch 5/20 - Training Loss: 0.1111 - Training Accuracy: 97.70%\n",
            "Validation Accuracy: 93.81%\n",
            "Epoch 6/20 - Training Loss: 0.1157 - Training Accuracy: 96.94%\n",
            "Validation Accuracy: 92.92%\n",
            "Epoch 7/20 - Training Loss: 0.1126 - Training Accuracy: 96.78%\n",
            "Validation Accuracy: 92.92%\n",
            "Epoch 8/20 - Training Loss: 0.1137 - Training Accuracy: 97.24%\n",
            "Validation Accuracy: 91.15%\n",
            "Epoch 9/20 - Training Loss: 0.0975 - Training Accuracy: 96.94%\n",
            "Validation Accuracy: 92.04%\n",
            "Epoch 10/20 - Training Loss: 0.0959 - Training Accuracy: 96.94%\n",
            "Validation Accuracy: 92.92%\n",
            "Epoch 11/20 - Training Loss: 0.1006 - Training Accuracy: 97.86%\n",
            "Validation Accuracy: 93.81%\n",
            "Epoch 12/20 - Training Loss: 0.0833 - Training Accuracy: 98.16%\n",
            "Validation Accuracy: 93.81%\n",
            "Epoch 13/20 - Training Loss: 0.0929 - Training Accuracy: 97.86%\n",
            "Validation Accuracy: 92.04%\n",
            "Epoch 14/20 - Training Loss: 0.0989 - Training Accuracy: 96.63%\n",
            "Validation Accuracy: 92.04%\n",
            "Epoch 15/20 - Training Loss: 0.0978 - Training Accuracy: 97.09%\n",
            "Validation Accuracy: 92.92%\n",
            "Epoch 16/20 - Training Loss: 0.0800 - Training Accuracy: 97.40%\n",
            "Validation Accuracy: 93.81%\n",
            "Epoch 17/20 - Training Loss: 0.0851 - Training Accuracy: 97.70%\n",
            "Validation Accuracy: 93.81%\n",
            "Epoch 18/20 - Training Loss: 0.0652 - Training Accuracy: 98.32%\n",
            "Validation Accuracy: 92.92%\n",
            "Epoch 19/20 - Training Loss: 0.0899 - Training Accuracy: 97.55%\n",
            "Validation Accuracy: 93.81%\n",
            "Epoch 20/20 - Training Loss: 0.0747 - Training Accuracy: 98.01%\n",
            "Validation Accuracy: 92.92%\n"
          ]
        }
      ]
    },
    {
      "cell_type": "code",
      "source": [
        "# 5. Plotting the results\n",
        "import matplotlib.pyplot as plt\n",
        "import numpy as np\n",
        "plt.figure(figsize=(10, 5))\n",
        "plt.plot(range(1, num_epochs + 1), train_accuracies, label='Training Accuracy', marker='o')\n",
        "for i, (x, y) in enumerate(zip(range(1, num_epochs + 1), train_accuracies)):\n",
        "    plt.text(x, y + 1.5, f'{y:.2f}', ha='center', va='bottom', fontsize=8)\n",
        "plt.plot(range(1, num_epochs + 1), val_accuracies, label='Validation Accuracy', marker='o')\n",
        "for i, (x, y) in enumerate(zip(range(1, num_epochs + 1), val_accuracies)):\n",
        "    plt.text(x, y - 1.5, f'{y:.2f}', ha='center', va='top', fontsize=8)\n",
        "plt.title('Training vs. Validation Accuracy')\n",
        "plt.xlabel('Epoch')\n",
        "plt.ylabel('Accuracy (%)')\n",
        "# Set y-axis ticks to be at a gap of 5\n",
        "plt.yticks(np.arange(0, 101, 5))\n",
        "plt.ylim(0, 110)\n",
        "plt.legend()\n",
        "plt.show()\n",
        "plt.savefig('accuracy_plot.png')\n",
        "print(\"Accuracy plot saved as accuracy_plot.png\")"
      ],
      "metadata": {
        "id": "Kr6IBhokxgv6",
        "colab": {
          "base_uri": "https://localhost:8080/",
          "height": 522
        },
        "outputId": "a9a2e764-c0a8-4455-fed3-37d2e7d5b2c7"
      },
      "execution_count": 51,
      "outputs": [
        {
          "output_type": "display_data",
          "data": {
            "text/plain": [
              "<Figure size 1000x500 with 1 Axes>"
            ],
            "image/png": "[encoded data removed]"
          },
          "metadata": {}
        },
        {
          "output_type": "stream",
          "name": "stdout",
          "text": [
            "Accuracy plot saved as accuracy_plot.png\n"
          ]
        },
        {
          "output_type": "display_data",
          "data": {
            "text/plain": [
              "<Figure size 640x480 with 0 Axes>"
            ]
          },
          "metadata": {}
        }
      ]
    },
    {
      "cell_type": "code",
      "source": [
        "# Save the trained model\n",
        "torch.save(model.state_dict(), '/content/drive/MyDrive/Colab Notebooks/Waste Segregation /resnet50_waste_model.pth')\n",
        "print(\"Model saved as resnet50_waste_model.pth\")"
      ],
      "metadata": {
        "id": "i19iH8t3xkY6",
        "colab": {
          "base_uri": "https://localhost:8080/"
        },
        "outputId": "800e40b5-7909-4e98-e4dc-e0429ad76d0c"
      },
      "execution_count": 53,
      "outputs": [
        {
          "output_type": "stream",
          "name": "stdout",
          "text": [
            "Model saved as resnet50_waste_model.pth\n"
          ]
        }
      ]
    }
  ]
}